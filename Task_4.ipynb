{
  "nbformat": 4,
  "nbformat_minor": 0,
  "metadata": {
    "colab": {
      "provenance": []
    },
    "kernelspec": {
      "name": "python3",
      "display_name": "Python 3"
    },
    "language_info": {
      "name": "python"
    }
  },
  "cells": [
    {
      "cell_type": "code",
      "execution_count": 1,
      "metadata": {
        "colab": {
          "base_uri": "https://localhost:8080/"
        },
        "id": "0yZRHVSSwlCc",
        "outputId": "04dda57a-74af-469a-a360-71684c60be16"
      },
      "outputs": [
        {
          "output_type": "stream",
          "name": "stdout",
          "text": [
            "Choose rock, paper, or scissors: paper\n",
            "Your choice: paper\n",
            "Computer's choice: paper\n",
            "Tie!!\n",
            "Want to play again? (yes/no):yes\n",
            "Choose rock, paper, or scissors: rock\n",
            "Your choice: rock\n",
            "Computer's choice: paper\n",
            "Computer Wins!\n",
            "Want to play again? (yes/no):no\n",
            "Thanks for playing!\n",
            "total user wins= 0\n",
            "total computer wins= 1\n",
            "total ties= 1\n"
          ]
        }
      ],
      "source": [
        "import random\n",
        "\n",
        "def get_user_choice():\n",
        "    while True:\n",
        "        if(choice=='rock'or choice=='paper'or choice=='scissors'):\n",
        "            return choice\n",
        "def get_computer_choice():\n",
        "    return random.choice(['rock','paper','scissors'])\n",
        "wins_user=0\n",
        "wins_computer=0\n",
        "tie=0\n",
        "while True:\n",
        "\n",
        "  choice = input(\"Choose rock, paper, or scissors: \")\n",
        "  user_choice = get_user_choice()\n",
        "  computer_choice = get_computer_choice()\n",
        "\n",
        "  print(\"Your choice:\",user_choice)\n",
        "  print(\"Computer's choice:\",computer_choice)\n",
        "\n",
        "  if user_choice == computer_choice:\n",
        "    print(\"Tie!!\")\n",
        "    tie=tie+1\n",
        "  elif(user_choice=='rock'and computer_choice=='scissors'):\n",
        "    print(\"You Win!\")\n",
        "    wins_user=wins_user+1\n",
        "  elif(user_choice=='scissors'and computer_choice=='paper') :\n",
        "    print(\"You Win!\")\n",
        "    wins_user=wins_user+1\n",
        "  elif(user_choice=='paper'and computer_choice=='rock'):\n",
        "    print(\"You Win!\")\n",
        "    wins_user=wins_user+1\n",
        "  else:\n",
        "       print(\"Computer Wins!\")\n",
        "       wins_computer=wins_computer+1\n",
        "  play_again = input(\"Want to play again? (yes/no):\").lower()\n",
        "  if (play_again != 'yes'):\n",
        "    print(\"Thanks for playing!\")\n",
        "    break\n",
        "print(\"total user wins=\",wins_user)\n",
        "print(\"total computer wins=\",wins_computer)\n",
        "print(\"total ties=\",tie)"
      ]
    }
  ]
}