{
  "nbformat": 4,
  "nbformat_minor": 0,
  "metadata": {
    "colab": {
      "provenance": []
    },
    "kernelspec": {
      "name": "python3",
      "display_name": "Python 3"
    },
    "language_info": {
      "name": "python"
    }
  },
  "cells": [
    {
      "cell_type": "code",
      "execution_count": 2,
      "metadata": {
        "colab": {
          "base_uri": "https://localhost:8080/"
        },
        "id": "Q4K347QArOVt",
        "outputId": "6ed07756-2ca4-4eb3-914b-d1f6cd8ffe54"
      },
      "outputs": [
        {
          "name": "stdout",
          "output_type": "stream",
          "text": [
            "1.Addition\n",
            "2.Subtraction\n",
            "3.Multiplication\n",
            "4.Division\n",
            "5.Modulus\n",
            "6.Exit\n",
            "Enter your choice : 4\n",
            "Enter the first number:16\n",
            "Enter the second number:4\n",
            "division: 4.0\n",
            "1.Addition\n",
            "2.Subtraction\n",
            "3.Multiplication\n",
            "4.Division\n",
            "5.Modulus\n",
            "6.Exit\n",
            "Enter your choice : 1\n",
            "Enter the first number:10\n",
            "Enter the second number:2\n",
            "sum: 12.0\n",
            "1.Addition\n",
            "2.Subtraction\n",
            "3.Multiplication\n",
            "4.Division\n",
            "5.Modulus\n",
            "6.Exit\n",
            "Enter your choice : 2\n",
            "Enter the first number:10\n",
            "Enter the second number:8\n",
            "subtraction: 2.0\n",
            "1.Addition\n",
            "2.Subtraction\n",
            "3.Multiplication\n",
            "4.Division\n",
            "5.Modulus\n",
            "6.Exit\n",
            "Enter your choice : 3\n",
            "Enter the first number:19\n",
            "Enter the second number:1\n",
            "multiplication: 19.0\n",
            "1.Addition\n",
            "2.Subtraction\n",
            "3.Multiplication\n",
            "4.Division\n",
            "5.Modulus\n",
            "6.Exit\n",
            "Enter your choice : 6\n"
          ]
        }
      ],
      "source": [
        "def add(a, b):\n",
        "    return a+b\n",
        "def subtract(a, b):\n",
        "    return a-b\n",
        "def multiply(a,b):\n",
        "    return a*b\n",
        "def divide(a,b):\n",
        "    return a/b\n",
        "def modulus(a,b):\n",
        "    return a%b;\n",
        "while True:\n",
        "    print(\"1.Addition\")\n",
        "    print(\"2.Subtraction\")\n",
        "    print(\"3.Multiplication\")\n",
        "    print(\"4.Division\")\n",
        "    print(\"5.Modulus\")\n",
        "    print(\"6.Exit\")\n",
        "    choice=input(\"Enter your choice : \")\n",
        "    if choice=='6':\n",
        "        break\n",
        "    n1 = float(input(\"Enter the first number:\"))\n",
        "    n2 = float(input(\"Enter the second number:\"))\n",
        "    if choice=='1':\n",
        "        print(\"sum:\",add(n1,n2))\n",
        "    elif choice=='2':\n",
        "        print(\"subtraction:\",subtract(n1,n2))\n",
        "    elif choice=='3':\n",
        "        print(\"multiplication:\", multiply(n1,n2))\n",
        "    elif choice=='4':\n",
        "        print(\"division:\", divide(n1,n2))\n",
        "    elif choice=='5':\n",
        "        print(\"Modulus:\", modulus(n1,n2))\n",
        "    else:\n",
        "        print(\"Invalid choice!try again\")\n"
      ]
    }
  ]
}